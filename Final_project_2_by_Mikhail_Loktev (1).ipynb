{
 "cells": [
  {
   "cell_type": "markdown",
   "metadata": {},
   "source": [
    "# Проект: вариант 2"
   ]
  },
  {
   "cell_type": "markdown",
   "metadata": {},
   "source": [
    "## Задание 1. A/B–тестирование"
   ]
  },
  {
   "cell_type": "markdown",
   "metadata": {},
   "source": [
    "### 1.1 Условие\n",
    "\n",
    "В ходе тестирования одной гипотезы целевой группе была предложена новая механика оплаты услуг на сайте, у контрольной группы оставалась базовая механика. В качестве задания Вам необходимо проанализировать итоги эксперимента и сделать вывод, стоит ли запускать новую механику оплаты на всех пользователей."
   ]
  },
  {
   "cell_type": "markdown",
   "metadata": {},
   "source": [
    "### 1.2 Входные данные\n",
    "\n",
    "В качестве входных данных Вы имеете 4 csv-файла:\n",
    "\n",
    "groups.csv - файл с информацией о принадлежности пользователя к контрольной или экспериментальной группе (А – контроль, B – целевая группа) \n",
    "\n",
    "groups_add.csv - дополнительный файл с пользователями, который вам прислали спустя 2 дня после передачи данных\n",
    "\n",
    "active_studs.csv - файл с информацией о пользователях, которые зашли на платформу в дни проведения эксперимента. \n",
    "\n",
    "checks.csv - файл с информацией об оплатах пользователей в дни проведения эксперимента. "
   ]
  },
  {
   "cell_type": "markdown",
   "metadata": {},
   "source": [
    "### 1.3 Вопросы\n",
    "\n",
    "- На какие метрики Вы смотрите в ходе анализа и почему?\n",
    "- Имеются ли различия в показателях и с чем они могут быть связаны?\n",
    "- Являются ли эти различия статистически значимыми?\n",
    "- Стоит ли запускать новую механику на всех пользователей?\n",
    "Данный список вопросов не является обязательным, и Вы можете при своём ответе опираться на собственный план."
   ]
  },
  {
   "cell_type": "markdown",
   "metadata": {},
   "source": [
    "### 1.4 Решение\n",
    "\n",
    "#### 1.4.1 Чтение и исследование данных\n"
   ]
  },
  {
   "cell_type": "code",
   "execution_count": 1,
   "metadata": {},
   "outputs": [],
   "source": [
    "# импорт библиотек\n",
    "import pandas as pd\n",
    "import numpy as np\n",
    "\n",
    "# для считывания с Я.Диска\n",
    "import requests\n",
    "from urllib.parse import urlencode \n",
    "\n",
    "# для построение графиков\n",
    "import matplotlib.pyplot as plt\n",
    "import seaborn as sns\n",
    "\n",
    "# для проверки гипотез\n",
    "from scipy.stats import shapiro, norm, chi2_contingency\n",
    "from tqdm import tqdm\n",
    "\n",
    "# для работы с SQL-запросами\n",
    "import pandahouse as ph"
   ]
  },
  {
   "cell_type": "code",
   "execution_count": 2,
   "metadata": {},
   "outputs": [],
   "source": [
    "# Функция для получения загрузочной ссылки\n",
    "def read_df_from_link(public_key, sep=';'):\n",
    "    base_url = 'https://cloud-api.yandex.net/v1/disk/public/resources/download?'\n",
    "    final_url = base_url + urlencode(dict(public_key=public_key))\n",
    "    response = requests.get(final_url)\n",
    "    download_url = response.json()['href']\n",
    "\n",
    "    return pd.read_csv(download_url, sep=sep)\n",
    "\n",
    "\n",
    "df_groups = read_df_from_link('https://disk.yandex.ru/d/58Us0DWOzuWAjg')\n",
    "df_groups_add = read_df_from_link(\n",
    "    'https://disk.yandex.ru/d/3aARY-P9pfaksg', sep=',')\n",
    "df_active_studs = read_df_from_link('https://disk.yandex.ru/d/prbgU-rZpiXVYg')\n",
    "df_check = read_df_from_link('https://disk.yandex.ru/d/84hTmELphW2sqQ')"
   ]
  },
  {
   "cell_type": "markdown",
   "metadata": {},
   "source": [
    "- посмотрим на таблицы\n",
    "- типы данных\n",
    "- проверка на нули\n",
    "- проверка на повторы"
   ]
  },
  {
   "cell_type": "code",
   "execution_count": 3,
   "metadata": {},
   "outputs": [
    {
     "data": {
      "text/html": [
       "<div>\n",
       "<style scoped>\n",
       "    .dataframe tbody tr th:only-of-type {\n",
       "        vertical-align: middle;\n",
       "    }\n",
       "\n",
       "    .dataframe tbody tr th {\n",
       "        vertical-align: top;\n",
       "    }\n",
       "\n",
       "    .dataframe thead th {\n",
       "        text-align: right;\n",
       "    }\n",
       "</style>\n",
       "<table border=\"1\" class=\"dataframe\">\n",
       "  <thead>\n",
       "    <tr style=\"text-align: right;\">\n",
       "      <th></th>\n",
       "      <th>id</th>\n",
       "      <th>grp</th>\n",
       "    </tr>\n",
       "  </thead>\n",
       "  <tbody>\n",
       "    <tr>\n",
       "      <th>0</th>\n",
       "      <td>1489</td>\n",
       "      <td>B</td>\n",
       "    </tr>\n",
       "    <tr>\n",
       "      <th>1</th>\n",
       "      <td>1627</td>\n",
       "      <td>A</td>\n",
       "    </tr>\n",
       "    <tr>\n",
       "      <th>2</th>\n",
       "      <td>1768</td>\n",
       "      <td>B</td>\n",
       "    </tr>\n",
       "    <tr>\n",
       "      <th>3</th>\n",
       "      <td>1783</td>\n",
       "      <td>B</td>\n",
       "    </tr>\n",
       "    <tr>\n",
       "      <th>4</th>\n",
       "      <td>1794</td>\n",
       "      <td>A</td>\n",
       "    </tr>\n",
       "  </tbody>\n",
       "</table>\n",
       "</div>"
      ],
      "text/plain": [
       "     id grp\n",
       "0  1489   B\n",
       "1  1627   A\n",
       "2  1768   B\n",
       "3  1783   B\n",
       "4  1794   A"
      ]
     },
     "execution_count": 3,
     "metadata": {},
     "output_type": "execute_result"
    }
   ],
   "source": [
    "df_groups.head(5)"
   ]
  },
  {
   "cell_type": "code",
   "execution_count": 4,
   "metadata": {},
   "outputs": [
    {
     "name": "stdout",
     "output_type": "stream",
     "text": [
      "<class 'pandas.core.frame.DataFrame'>\n",
      "RangeIndex: 74484 entries, 0 to 74483\n",
      "Data columns (total 2 columns):\n",
      " #   Column  Non-Null Count  Dtype \n",
      "---  ------  --------------  ----- \n",
      " 0   id      74484 non-null  int64 \n",
      " 1   grp     74484 non-null  object\n",
      "dtypes: int64(1), object(1)\n",
      "memory usage: 1.1+ MB\n"
     ]
    }
   ],
   "source": [
    "df_groups.info()"
   ]
  },
  {
   "cell_type": "code",
   "execution_count": 5,
   "metadata": {},
   "outputs": [
    {
     "data": {
      "text/plain": [
       "id     0\n",
       "grp    0\n",
       "dtype: int64"
      ]
     },
     "execution_count": 5,
     "metadata": {},
     "output_type": "execute_result"
    }
   ],
   "source": [
    "df_groups.isna().sum()"
   ]
  },
  {
   "cell_type": "code",
   "execution_count": 6,
   "metadata": {},
   "outputs": [
    {
     "name": "stdout",
     "output_type": "stream",
     "text": [
      "Дубликатов нет!\n"
     ]
    }
   ],
   "source": [
    "if len(df_groups['id'].unique()) < len(df_groups):\n",
    "    print('Есть дубликаты в графе \"id\"!')\n",
    "else:\n",
    "    print('Дубликатов нет!')"
   ]
  },
  {
   "cell_type": "code",
   "execution_count": 7,
   "metadata": {},
   "outputs": [
    {
     "data": {
      "text/html": [
       "<div>\n",
       "<style scoped>\n",
       "    .dataframe tbody tr th:only-of-type {\n",
       "        vertical-align: middle;\n",
       "    }\n",
       "\n",
       "    .dataframe tbody tr th {\n",
       "        vertical-align: top;\n",
       "    }\n",
       "\n",
       "    .dataframe thead th {\n",
       "        text-align: right;\n",
       "    }\n",
       "</style>\n",
       "<table border=\"1\" class=\"dataframe\">\n",
       "  <thead>\n",
       "    <tr style=\"text-align: right;\">\n",
       "      <th></th>\n",
       "      <th>id</th>\n",
       "      <th>grp</th>\n",
       "    </tr>\n",
       "  </thead>\n",
       "  <tbody>\n",
       "    <tr>\n",
       "      <th>0</th>\n",
       "      <td>5694584</td>\n",
       "      <td>B</td>\n",
       "    </tr>\n",
       "    <tr>\n",
       "      <th>1</th>\n",
       "      <td>5694830</td>\n",
       "      <td>B</td>\n",
       "    </tr>\n",
       "    <tr>\n",
       "      <th>2</th>\n",
       "      <td>5695057</td>\n",
       "      <td>B</td>\n",
       "    </tr>\n",
       "  </tbody>\n",
       "</table>\n",
       "</div>"
      ],
      "text/plain": [
       "        id grp\n",
       "0  5694584   B\n",
       "1  5694830   B\n",
       "2  5695057   B"
      ]
     },
     "execution_count": 7,
     "metadata": {},
     "output_type": "execute_result"
    }
   ],
   "source": [
    "df_groups_add.head(3)"
   ]
  },
  {
   "cell_type": "code",
   "execution_count": 8,
   "metadata": {},
   "outputs": [
    {
     "name": "stdout",
     "output_type": "stream",
     "text": [
      "<class 'pandas.core.frame.DataFrame'>\n",
      "RangeIndex: 92 entries, 0 to 91\n",
      "Data columns (total 2 columns):\n",
      " #   Column  Non-Null Count  Dtype \n",
      "---  ------  --------------  ----- \n",
      " 0   id      92 non-null     int64 \n",
      " 1   grp     92 non-null     object\n",
      "dtypes: int64(1), object(1)\n",
      "memory usage: 1.6+ KB\n"
     ]
    }
   ],
   "source": [
    "df_groups_add.info()"
   ]
  },
  {
   "cell_type": "code",
   "execution_count": 9,
   "metadata": {},
   "outputs": [
    {
     "data": {
      "text/plain": [
       "id     0\n",
       "grp    0\n",
       "dtype: int64"
      ]
     },
     "execution_count": 9,
     "metadata": {},
     "output_type": "execute_result"
    }
   ],
   "source": [
    "df_groups_add.isna().sum()"
   ]
  },
  {
   "cell_type": "code",
   "execution_count": 10,
   "metadata": {},
   "outputs": [
    {
     "name": "stdout",
     "output_type": "stream",
     "text": [
      "Дубликатов нет!\n"
     ]
    }
   ],
   "source": [
    "if len(df_groups_add['id'].unique()) < len(df_groups_add):\n",
    "    print('Есть дубликаты в графе \"id\"!')\n",
    "else:\n",
    "    print('Дубликатов нет!')"
   ]
  },
  {
   "cell_type": "code",
   "execution_count": 11,
   "metadata": {},
   "outputs": [
    {
     "data": {
      "text/html": [
       "<div>\n",
       "<style scoped>\n",
       "    .dataframe tbody tr th:only-of-type {\n",
       "        vertical-align: middle;\n",
       "    }\n",
       "\n",
       "    .dataframe tbody tr th {\n",
       "        vertical-align: top;\n",
       "    }\n",
       "\n",
       "    .dataframe thead th {\n",
       "        text-align: right;\n",
       "    }\n",
       "</style>\n",
       "<table border=\"1\" class=\"dataframe\">\n",
       "  <thead>\n",
       "    <tr style=\"text-align: right;\">\n",
       "      <th></th>\n",
       "      <th>student_id</th>\n",
       "    </tr>\n",
       "  </thead>\n",
       "  <tbody>\n",
       "    <tr>\n",
       "      <th>0</th>\n",
       "      <td>581585</td>\n",
       "    </tr>\n",
       "    <tr>\n",
       "      <th>1</th>\n",
       "      <td>5723133</td>\n",
       "    </tr>\n",
       "    <tr>\n",
       "      <th>2</th>\n",
       "      <td>3276743</td>\n",
       "    </tr>\n",
       "  </tbody>\n",
       "</table>\n",
       "</div>"
      ],
      "text/plain": [
       "   student_id\n",
       "0      581585\n",
       "1     5723133\n",
       "2     3276743"
      ]
     },
     "execution_count": 11,
     "metadata": {},
     "output_type": "execute_result"
    }
   ],
   "source": [
    "df_active_studs.head(3)"
   ]
  },
  {
   "cell_type": "code",
   "execution_count": 12,
   "metadata": {},
   "outputs": [
    {
     "name": "stdout",
     "output_type": "stream",
     "text": [
      "<class 'pandas.core.frame.DataFrame'>\n",
      "RangeIndex: 8341 entries, 0 to 8340\n",
      "Data columns (total 1 columns):\n",
      " #   Column      Non-Null Count  Dtype\n",
      "---  ------      --------------  -----\n",
      " 0   student_id  8341 non-null   int64\n",
      "dtypes: int64(1)\n",
      "memory usage: 65.3 KB\n"
     ]
    }
   ],
   "source": [
    "df_active_studs.info()"
   ]
  },
  {
   "cell_type": "code",
   "execution_count": 13,
   "metadata": {},
   "outputs": [
    {
     "data": {
      "text/plain": [
       "student_id    0\n",
       "dtype: int64"
      ]
     },
     "execution_count": 13,
     "metadata": {},
     "output_type": "execute_result"
    }
   ],
   "source": [
    "df_active_studs.isna().sum()"
   ]
  },
  {
   "cell_type": "code",
   "execution_count": 14,
   "metadata": {},
   "outputs": [
    {
     "name": "stdout",
     "output_type": "stream",
     "text": [
      "Дубликатов нет!\n"
     ]
    }
   ],
   "source": [
    "if len(df_active_studs['student_id'].unique()) < len(df_active_studs):\n",
    "    print('Есть дубликаты в графе \"student_id\"!')\n",
    "else:\n",
    "    print('Дубликатов нет!')"
   ]
  },
  {
   "cell_type": "code",
   "execution_count": 15,
   "metadata": {},
   "outputs": [
    {
     "data": {
      "text/html": [
       "<div>\n",
       "<style scoped>\n",
       "    .dataframe tbody tr th:only-of-type {\n",
       "        vertical-align: middle;\n",
       "    }\n",
       "\n",
       "    .dataframe tbody tr th {\n",
       "        vertical-align: top;\n",
       "    }\n",
       "\n",
       "    .dataframe thead th {\n",
       "        text-align: right;\n",
       "    }\n",
       "</style>\n",
       "<table border=\"1\" class=\"dataframe\">\n",
       "  <thead>\n",
       "    <tr style=\"text-align: right;\">\n",
       "      <th></th>\n",
       "      <th>student_id</th>\n",
       "      <th>rev</th>\n",
       "    </tr>\n",
       "  </thead>\n",
       "  <tbody>\n",
       "    <tr>\n",
       "      <th>0</th>\n",
       "      <td>1627</td>\n",
       "      <td>990.0</td>\n",
       "    </tr>\n",
       "    <tr>\n",
       "      <th>1</th>\n",
       "      <td>3185</td>\n",
       "      <td>690.0</td>\n",
       "    </tr>\n",
       "    <tr>\n",
       "      <th>2</th>\n",
       "      <td>25973</td>\n",
       "      <td>690.0</td>\n",
       "    </tr>\n",
       "  </tbody>\n",
       "</table>\n",
       "</div>"
      ],
      "text/plain": [
       "   student_id    rev\n",
       "0        1627  990.0\n",
       "1        3185  690.0\n",
       "2       25973  690.0"
      ]
     },
     "execution_count": 15,
     "metadata": {},
     "output_type": "execute_result"
    }
   ],
   "source": [
    "df_check.head(3)"
   ]
  },
  {
   "cell_type": "code",
   "execution_count": 16,
   "metadata": {},
   "outputs": [
    {
     "name": "stdout",
     "output_type": "stream",
     "text": [
      "<class 'pandas.core.frame.DataFrame'>\n",
      "RangeIndex: 541 entries, 0 to 540\n",
      "Data columns (total 2 columns):\n",
      " #   Column      Non-Null Count  Dtype  \n",
      "---  ------      --------------  -----  \n",
      " 0   student_id  541 non-null    int64  \n",
      " 1   rev         541 non-null    float64\n",
      "dtypes: float64(1), int64(1)\n",
      "memory usage: 8.6 KB\n"
     ]
    }
   ],
   "source": [
    "df_check.info()"
   ]
  },
  {
   "cell_type": "code",
   "execution_count": 17,
   "metadata": {},
   "outputs": [
    {
     "data": {
      "text/plain": [
       "student_id    0\n",
       "rev           0\n",
       "dtype: int64"
      ]
     },
     "execution_count": 17,
     "metadata": {},
     "output_type": "execute_result"
    }
   ],
   "source": [
    "df_check.isna().sum()"
   ]
  },
  {
   "cell_type": "code",
   "execution_count": 18,
   "metadata": {},
   "outputs": [
    {
     "name": "stdout",
     "output_type": "stream",
     "text": [
      "Дубликатов нет!\n"
     ]
    }
   ],
   "source": [
    "if len(df_check['student_id'].unique()) < len(df_check):\n",
    "    print('Есть дубликаты в графе \"student_id\"!')\n",
    "else:\n",
    "    print('Дубликатов нет!')"
   ]
  },
  {
   "cell_type": "markdown",
   "metadata": {},
   "source": [
    "#### 1.4.2 Обработка данных\n",
    "- Делаем одинаковые заголовки (rename)\n",
    "- Сложение таблиц (concat)\n",
    "- Джойним таблицы на основе df_group_all (merge)"
   ]
  },
  {
   "cell_type": "code",
   "execution_count": 19,
   "metadata": {},
   "outputs": [],
   "source": [
    "df_active_studs.rename(columns={'student_id': 'id'}, inplace=True)\n",
    "df_check.rename(columns={'student_id': 'id'}, inplace=True)"
   ]
  },
  {
   "cell_type": "code",
   "execution_count": 20,
   "metadata": {},
   "outputs": [
    {
     "data": {
      "text/plain": [
       "(74576, 2)"
      ]
     },
     "execution_count": 20,
     "metadata": {},
     "output_type": "execute_result"
    }
   ],
   "source": [
    "df_group_all = pd.concat([df_groups, df_groups_add], ignore_index=True, axis=0)\n",
    "df_group_all.shape"
   ]
  },
  {
   "cell_type": "code",
   "execution_count": 21,
   "metadata": {},
   "outputs": [
    {
     "name": "stdout",
     "output_type": "stream",
     "text": [
      "Дубликатов нет!\n"
     ]
    }
   ],
   "source": [
    "if len(df_group_all[\"id\"].unique()) < len(df_group_all):\n",
    "    print('В столбце \"id\" были найдены дубликаты!')\n",
    "    count_duplicates = df_group_all.duplicated([\"id\", \"grp\"]).sum()  # полные дубликаты\n",
    "    if count_duplicates > 0:\n",
    "        df_group_all = df_group_all.drop_duplicates(subset=[\"id\", \"grp\"])\n",
    "    print(\n",
    "        \"Количество найденных и удаленных полностью одинаковых строчек:\",\n",
    "        count_duplicates,\n",
    "    )\n",
    "\n",
    "    count_id_duplicates = df_group_all.duplicated(\n",
    "        [\"id\"]\n",
    "    ).sum()  # дубликаты по id т.е группы пересекаются\n",
    "    if count_id_duplicates > 0:\n",
    "        print(\"Количество пересекающихся id :\", count_id_duplicates)\n",
    "        print(\n",
    "            \"Список пересекающихся id\\n\",\n",
    "            df_group_all[df_group_all.duplicated([\"id\"], keep=False)],\n",
    "        )\n",
    "else:\n",
    "    print(\"Дубликатов нет!\")"
   ]
  },
  {
   "cell_type": "markdown",
   "metadata": {},
   "source": [
    "Проверка на то, что в df_group_all содержатся все студенты из df_active_studs и все студенты из df_check ."
   ]
  },
  {
   "cell_type": "code",
   "execution_count": 22,
   "metadata": {},
   "outputs": [
    {
     "name": "stdout",
     "output_type": "stream",
     "text": [
      "Все ок!\n"
     ]
    }
   ],
   "source": [
    "if pd.merge(df_group_all, df_active_studs, how=\"inner\").id.nunique() != df_active_studs.id.nunique():\n",
    "    print(\"Есть проблема!\")\n",
    "else:\n",
    "    print(\"Все ок!\")"
   ]
  },
  {
   "cell_type": "code",
   "execution_count": 23,
   "metadata": {},
   "outputs": [
    {
     "name": "stdout",
     "output_type": "stream",
     "text": [
      "Все ок!\n"
     ]
    }
   ],
   "source": [
    "if pd.merge(df_group_all, df_check, how='inner').id.nunique() != df_check.id.nunique():\n",
    "    print('Есть проблема!')\n",
    "else:\n",
    "    print('Все ок!')"
   ]
  },
  {
   "cell_type": "code",
   "execution_count": 24,
   "metadata": {},
   "outputs": [],
   "source": [
    "# Новый столбец, чтобы после джойна можно было найти активных\n",
    "df_active_studs['is_active'] = 1 "
   ]
  },
  {
   "cell_type": "code",
   "execution_count": 25,
   "metadata": {},
   "outputs": [
    {
     "data": {
      "text/html": [
       "<div>\n",
       "<style scoped>\n",
       "    .dataframe tbody tr th:only-of-type {\n",
       "        vertical-align: middle;\n",
       "    }\n",
       "\n",
       "    .dataframe tbody tr th {\n",
       "        vertical-align: top;\n",
       "    }\n",
       "\n",
       "    .dataframe thead th {\n",
       "        text-align: right;\n",
       "    }\n",
       "</style>\n",
       "<table border=\"1\" class=\"dataframe\">\n",
       "  <thead>\n",
       "    <tr style=\"text-align: right;\">\n",
       "      <th></th>\n",
       "      <th>id</th>\n",
       "      <th>grp</th>\n",
       "      <th>is_active</th>\n",
       "      <th>rev</th>\n",
       "    </tr>\n",
       "  </thead>\n",
       "  <tbody>\n",
       "    <tr>\n",
       "      <th>0</th>\n",
       "      <td>1489</td>\n",
       "      <td>B</td>\n",
       "      <td>NaN</td>\n",
       "      <td>NaN</td>\n",
       "    </tr>\n",
       "    <tr>\n",
       "      <th>1</th>\n",
       "      <td>1627</td>\n",
       "      <td>A</td>\n",
       "      <td>1.0</td>\n",
       "      <td>990.0</td>\n",
       "    </tr>\n",
       "    <tr>\n",
       "      <th>2</th>\n",
       "      <td>1768</td>\n",
       "      <td>B</td>\n",
       "      <td>NaN</td>\n",
       "      <td>NaN</td>\n",
       "    </tr>\n",
       "    <tr>\n",
       "      <th>3</th>\n",
       "      <td>1783</td>\n",
       "      <td>B</td>\n",
       "      <td>NaN</td>\n",
       "      <td>NaN</td>\n",
       "    </tr>\n",
       "    <tr>\n",
       "      <th>4</th>\n",
       "      <td>1794</td>\n",
       "      <td>A</td>\n",
       "      <td>NaN</td>\n",
       "      <td>NaN</td>\n",
       "    </tr>\n",
       "  </tbody>\n",
       "</table>\n",
       "</div>"
      ],
      "text/plain": [
       "     id grp  is_active    rev\n",
       "0  1489   B        NaN    NaN\n",
       "1  1627   A        1.0  990.0\n",
       "2  1768   B        NaN    NaN\n",
       "3  1783   B        NaN    NaN\n",
       "4  1794   A        NaN    NaN"
      ]
     },
     "execution_count": 25,
     "metadata": {},
     "output_type": "execute_result"
    }
   ],
   "source": [
    "df_group_merged = pd.merge(df_group_all, df_active_studs, how='left', on='id')\n",
    "df_group_merged = pd.merge(df_group_merged, df_check, how='left', on='id')\n",
    "df_group_merged.head()"
   ]
  },
  {
   "cell_type": "code",
   "execution_count": 26,
   "metadata": {},
   "outputs": [],
   "source": [
    "# Заполняем нулями Null\n",
    "df_group_merged = df_group_merged.fillna(0) "
   ]
  },
  {
   "cell_type": "markdown",
   "metadata": {},
   "source": [
    "#### Проверка на аномалии\n",
    "Проверим существуют ли студенты, которые оплатили курс, но не были активны в день эксперимента. \n",
    "Определим количество таких студентов, если они есть, а также почему это могло произойти. "
   ]
  },
  {
   "cell_type": "code",
   "execution_count": 27,
   "metadata": {},
   "outputs": [
    {
     "data": {
      "text/html": [
       "<div>\n",
       "<style scoped>\n",
       "    .dataframe tbody tr th:only-of-type {\n",
       "        vertical-align: middle;\n",
       "    }\n",
       "\n",
       "    .dataframe tbody tr th {\n",
       "        vertical-align: top;\n",
       "    }\n",
       "\n",
       "    .dataframe thead th {\n",
       "        text-align: right;\n",
       "    }\n",
       "</style>\n",
       "<table border=\"1\" class=\"dataframe\">\n",
       "  <thead>\n",
       "    <tr style=\"text-align: right;\">\n",
       "      <th></th>\n",
       "      <th>id</th>\n",
       "      <th>grp</th>\n",
       "      <th>is_active</th>\n",
       "      <th>rev</th>\n",
       "    </tr>\n",
       "  </thead>\n",
       "  <tbody>\n",
       "    <tr>\n",
       "      <th>39</th>\n",
       "      <td>3185</td>\n",
       "      <td>B</td>\n",
       "      <td>0.0</td>\n",
       "      <td>690.0</td>\n",
       "    </tr>\n",
       "    <tr>\n",
       "      <th>121</th>\n",
       "      <td>25973</td>\n",
       "      <td>B</td>\n",
       "      <td>0.0</td>\n",
       "      <td>690.0</td>\n",
       "    </tr>\n",
       "    <tr>\n",
       "      <th>125</th>\n",
       "      <td>26280</td>\n",
       "      <td>B</td>\n",
       "      <td>0.0</td>\n",
       "      <td>690.0</td>\n",
       "    </tr>\n",
       "    <tr>\n",
       "      <th>223</th>\n",
       "      <td>100645</td>\n",
       "      <td>B</td>\n",
       "      <td>0.0</td>\n",
       "      <td>630.0</td>\n",
       "    </tr>\n",
       "    <tr>\n",
       "      <th>254</th>\n",
       "      <td>102534</td>\n",
       "      <td>B</td>\n",
       "      <td>0.0</td>\n",
       "      <td>580.0</td>\n",
       "    </tr>\n",
       "  </tbody>\n",
       "</table>\n",
       "</div>"
      ],
      "text/plain": [
       "         id grp  is_active    rev\n",
       "39     3185   B        0.0  690.0\n",
       "121   25973   B        0.0  690.0\n",
       "125   26280   B        0.0  690.0\n",
       "223  100645   B        0.0  630.0\n",
       "254  102534   B        0.0  580.0"
      ]
     },
     "execution_count": 27,
     "metadata": {},
     "output_type": "execute_result"
    }
   ],
   "source": [
    "df_group_merged.query('is_active==0 & rev>0').head()"
   ]
  },
  {
   "cell_type": "code",
   "execution_count": 28,
   "metadata": {},
   "outputs": [
    {
     "data": {
      "text/plain": [
       "149"
      ]
     },
     "execution_count": 28,
     "metadata": {},
     "output_type": "execute_result"
    }
   ],
   "source": [
    "len(df_group_merged.query('is_active==0 & rev>0'))"
   ]
  },
  {
   "cell_type": "code",
   "execution_count": 29,
   "metadata": {},
   "outputs": [
    {
     "data": {
      "text/plain": [
       "0.2754158964879852"
      ]
     },
     "execution_count": 29,
     "metadata": {},
     "output_type": "execute_result"
    }
   ],
   "source": [
    "len(df_group_merged.query('is_active==0 & rev>0')) / len(df_group_merged.query('rev>0'))"
   ]
  },
  {
   "cell_type": "code",
   "execution_count": 30,
   "metadata": {},
   "outputs": [
    {
     "data": {
      "text/html": [
       "<div>\n",
       "<style scoped>\n",
       "    .dataframe tbody tr th:only-of-type {\n",
       "        vertical-align: middle;\n",
       "    }\n",
       "\n",
       "    .dataframe tbody tr th {\n",
       "        vertical-align: top;\n",
       "    }\n",
       "\n",
       "    .dataframe thead th {\n",
       "        text-align: right;\n",
       "    }\n",
       "</style>\n",
       "<table border=\"1\" class=\"dataframe\">\n",
       "  <thead>\n",
       "    <tr style=\"text-align: right;\">\n",
       "      <th></th>\n",
       "      <th>grp</th>\n",
       "      <th>id</th>\n",
       "    </tr>\n",
       "  </thead>\n",
       "  <tbody>\n",
       "    <tr>\n",
       "      <th>0</th>\n",
       "      <td>A</td>\n",
       "      <td>29</td>\n",
       "    </tr>\n",
       "    <tr>\n",
       "      <th>1</th>\n",
       "      <td>B</td>\n",
       "      <td>120</td>\n",
       "    </tr>\n",
       "  </tbody>\n",
       "</table>\n",
       "</div>"
      ],
      "text/plain": [
       "  grp   id\n",
       "0   A   29\n",
       "1   B  120"
      ]
     },
     "execution_count": 30,
     "metadata": {},
     "output_type": "execute_result"
    }
   ],
   "source": [
    "df_group_merged.query(\"is_active==0 & rev>0\").groupby(\"grp\", as_index=False).agg(\n",
    "    {\"id\": \"count\"}\n",
    ")"
   ]
  },
  {
   "cell_type": "markdown",
   "metadata": {},
   "source": [
    "Выводы по аномалиям:\n",
    "1. В таблице действительно присутствуют студенты, которые не были активны в день эксперимента, но оплатили какой-либо курс, назовем их \"неактивные покупатели\"\n",
    "2. Их количество (149) относительно всех покупателей достаточно значительное (27.5%), а значит нам не следует их исключать при проведении последующих экспериментов\n",
    "3. Такие \"неактивные покупатели\" присутствуют в обоих эксперементальных группах\n",
    "4. Наличие таких покупателей может быть обсусловлено несколькими причинами:\n",
    "    - ошибкой при сборе данных\n",
    "    - задержкой при проведении оплаты\n",
    "    - подписочная форма обучения\n",
    "    - студент оплатил курс, чтобы заниматься в будущем\n",
    "\n",
    "Для выявления точной причины, требуется более детальное углубление в предметную область, узнать какие есть формы и способы оплаты, а также как собирались данные"
   ]
  },
  {
   "cell_type": "markdown",
   "metadata": {},
   "source": [
    "#### Итоговая таблица перед построем метрик"
   ]
  },
  {
   "cell_type": "code",
   "execution_count": 31,
   "metadata": {},
   "outputs": [
    {
     "data": {
      "text/html": [
       "<div>\n",
       "<style scoped>\n",
       "    .dataframe tbody tr th:only-of-type {\n",
       "        vertical-align: middle;\n",
       "    }\n",
       "\n",
       "    .dataframe tbody tr th {\n",
       "        vertical-align: top;\n",
       "    }\n",
       "\n",
       "    .dataframe thead th {\n",
       "        text-align: right;\n",
       "    }\n",
       "</style>\n",
       "<table border=\"1\" class=\"dataframe\">\n",
       "  <thead>\n",
       "    <tr style=\"text-align: right;\">\n",
       "      <th></th>\n",
       "      <th>id</th>\n",
       "      <th>grp</th>\n",
       "      <th>is_active</th>\n",
       "      <th>rev</th>\n",
       "    </tr>\n",
       "  </thead>\n",
       "  <tbody>\n",
       "    <tr>\n",
       "      <th>0</th>\n",
       "      <td>1489</td>\n",
       "      <td>B</td>\n",
       "      <td>0.0</td>\n",
       "      <td>0.0</td>\n",
       "    </tr>\n",
       "    <tr>\n",
       "      <th>1</th>\n",
       "      <td>1627</td>\n",
       "      <td>A</td>\n",
       "      <td>1.0</td>\n",
       "      <td>990.0</td>\n",
       "    </tr>\n",
       "    <tr>\n",
       "      <th>2</th>\n",
       "      <td>1768</td>\n",
       "      <td>B</td>\n",
       "      <td>0.0</td>\n",
       "      <td>0.0</td>\n",
       "    </tr>\n",
       "    <tr>\n",
       "      <th>3</th>\n",
       "      <td>1783</td>\n",
       "      <td>B</td>\n",
       "      <td>0.0</td>\n",
       "      <td>0.0</td>\n",
       "    </tr>\n",
       "    <tr>\n",
       "      <th>4</th>\n",
       "      <td>1794</td>\n",
       "      <td>A</td>\n",
       "      <td>0.0</td>\n",
       "      <td>0.0</td>\n",
       "    </tr>\n",
       "  </tbody>\n",
       "</table>\n",
       "</div>"
      ],
      "text/plain": [
       "     id grp  is_active    rev\n",
       "0  1489   B        0.0    0.0\n",
       "1  1627   A        1.0  990.0\n",
       "2  1768   B        0.0    0.0\n",
       "3  1783   B        0.0    0.0\n",
       "4  1794   A        0.0    0.0"
      ]
     },
     "execution_count": 31,
     "metadata": {},
     "output_type": "execute_result"
    }
   ],
   "source": [
    "df_group_merged.head()"
   ]
  },
  {
   "cell_type": "markdown",
   "metadata": {},
   "source": [
    "### 1.4.3 Выбор метрик\n",
    "Выберим следующие метрики, которые полностью описывают представленные данные:\n",
    "1. Средний чек активных пользоваталей = Доход / Количество покупок\n",
    "2. Cредняя выручка на одного пользователя (ARPU) = Доход / (Кол-во пользователей)\n",
    "3. Cредняя выручка на одного активного пользователя (ARPAU) = Доход / (Кол-во активных пользоваталей)\n",
    "4. Конверсия в покупку (CR) = (Кол-во покупателей /Кол-во пользователей)*100%\n",
    "5. Конверсия активных пользователей в покупку (CR_ACTIVE) = (Кол-во актив. покупателей /Кол-во актив. пользоваталей)*100%"
   ]
  },
  {
   "cell_type": "code",
   "execution_count": 32,
   "metadata": {},
   "outputs": [],
   "source": [
    "df_grp_A = df_group_merged[df_group_merged.grp == 'A']\n",
    "df_grp_B = df_group_merged[df_group_merged.grp == 'B']"
   ]
  },
  {
   "cell_type": "code",
   "execution_count": 33,
   "metadata": {},
   "outputs": [],
   "source": [
    "df_grp_A_active = df_grp_A.query('is_active==1')\n",
    "df_grp_B_active = df_grp_B.query('is_active==1')"
   ]
  },
  {
   "cell_type": "code",
   "execution_count": 34,
   "metadata": {},
   "outputs": [],
   "source": [
    "avg_check_A = df_grp_A_active.query('rev>0').rev.dropna().mean()\n",
    "avg_check_B = df_grp_B_active.query('rev>0').rev.dropna().mean()\n",
    "ARPU_A = df_grp_A.rev.sum() / df_grp_A.id.count()\n",
    "ARPU_B = df_grp_B.rev.sum() / df_grp_B.id.count()\n",
    "ARPAU_A = df_grp_A_active.rev.sum() / df_grp_A_active.id.count()\n",
    "ARPAU_B = df_grp_B_active.rev.sum() / df_grp_B_active.id.count()\n",
    "CR_A = df_grp_A.query('rev>0').id.count() / df_grp_A.id.count() * 100\n",
    "CR_B = df_grp_B.query('rev>0').id.count() / df_grp_B.id.count() * 100\n",
    "CR_A_active = df_grp_A_active.query(\n",
    "    'rev>0').id.count() / df_grp_A_active.id.count() * 100\n",
    "CR_B_active = df_grp_B_active.query(\n",
    "    'rev>0').id.count() / df_grp_B_active.id.count() * 100"
   ]
  },
  {
   "cell_type": "code",
   "execution_count": 35,
   "metadata": {},
   "outputs": [
    {
     "name": "stdout",
     "output_type": "stream",
     "text": [
      "Основные метрики:\n",
      "\n",
      "Средний чек актив. польз.: \n",
      "Группа А: 933.59\n",
      "Группа Б: 1257.88\n",
      "Cредняя выручка на одного пользователя (ARPU): \n",
      "Группа А: 6.27\n",
      "Группа Б: 8.04\n",
      "Cредняя выручка на одного активного пользователя (ARPAU): \n",
      "Группа А: 47.35\n",
      "Группа Б: 58.06\n",
      "Конверсия в покупку (CR): \n",
      "Группа А: 0.73\n",
      "Группа Б: 0.72\n",
      "Конверсия активных пользователей в покупку (CR_ACTIVE): \n",
      "Группа А: 5.07\n",
      "Группа Б: 4.62\n"
     ]
    }
   ],
   "source": [
    "print('Основные метрики:\\n\\nСредний чек актив. польз.: ')\n",
    "print(f'Группа А: {round(avg_check_A,2)}\\nГруппа Б: {round(avg_check_B,2)}')\n",
    "print('Cредняя выручка на одного пользователя (ARPU): ')\n",
    "print(f'Группа А: {round(ARPU_A,2)}\\nГруппа Б: {round(ARPU_B,2)}')\n",
    "print('Cредняя выручка на одного активного пользователя (ARPAU): ')\n",
    "print(f'Группа А: {round(ARPAU_A,2)}\\nГруппа Б: {round(ARPAU_B,2)}')\n",
    "print('Конверсия в покупку (CR): ')\n",
    "print(f'Группа А: {round(CR_A,2)}\\nГруппа Б: {round(CR_B,2)}')\n",
    "print('Конверсия активных пользователей в покупку (CR_ACTIVE): ')\n",
    "print(f'Группа А: {round(CR_A_active,2)}\\nГруппа Б: {round(CR_B_active,2)}')"
   ]
  },
  {
   "cell_type": "code",
   "execution_count": 36,
   "metadata": {},
   "outputs": [
    {
     "name": "stdout",
     "output_type": "stream",
     "text": [
      "Средний чек актив. польз-ля у гр. В больше, чем у гр. А на 35%\n",
      "ARPU у группы В больше, чем у группы А на 28%\n",
      "ARPAU у группы В больше, чем у группы А на 23%\n",
      "Конверсия в покупку у обоих групп отличается на 0.5%\n",
      "Конверсия актив. польз/ в покупку у В меньше, чем у А на 9%\n"
     ]
    }
   ],
   "source": [
    "print(\n",
    "    f'Средний чек актив. польз-ля у гр. В больше, чем у гр. А на {round((avg_check_B-avg_check_A)*100/avg_check_A)}%')\n",
    "print(\n",
    "    f'ARPU у группы В больше, чем у группы А на {round((ARPU_B-ARPU_A)*100/ARPU_A)}%')\n",
    "print(\n",
    "    f'ARPAU у группы В больше, чем у группы А на {round((ARPAU_B-ARPAU_A)*100/ARPAU_A)}%')\n",
    "print(\n",
    "    f'Конверсия в покупку у обоих групп отличается на {round((CR_A-CR_B)*100/CR_A,1)}%')\n",
    "print(\n",
    "    f'Конверсия актив. польз/ в покупку у В меньше, чем у А на {round((CR_A_active-CR_B_active)*100/CR_A_active)}%')"
   ]
  },
  {
   "cell_type": "markdown",
   "metadata": {},
   "source": [
    "##### Выводы из метрик\n",
    "По результат построения метрик, можно увидеть что средний чек и средняя вырачку у целевой группы B значительно превышает эти показатели у группы контрольной группы А, а такой важный показатель как CR почти не отличается у всех пользователей и уменьшается у активных пользоваталей. Исходя из этого требуется:\n",
    "1. Рассматривать метрики только для активных пользоваталей (avg_check,ARPAU, CR_ACTIVE)\n",
    "2. Исследовать данные на нормальность и выбросы\n",
    "3. Проверить различие в средних чеках в разных группах\n",
    "4. Понять почему конверсия в покупку у активных пользоваталей уменьшилась в целевой функции "
   ]
  },
  {
   "cell_type": "markdown",
   "metadata": {},
   "source": [
    "### 1.4.4 Проверка гипотез\n",
    "\n",
    "Проверим следующие эксперименты:\n",
    "- нормальность данных и выбросы\n",
    "- средний чек\n",
    "- распределение"
   ]
  },
  {
   "cell_type": "markdown",
   "metadata": {},
   "source": [
    "#### 1.4.4.1 Исследование данных"
   ]
  },
  {
   "cell_type": "code",
   "execution_count": 37,
   "metadata": {},
   "outputs": [
    {
     "data": {
      "text/plain": [
       "1257.8789920382164"
      ]
     },
     "execution_count": 37,
     "metadata": {},
     "output_type": "execute_result"
    }
   ],
   "source": [
    "df_grp_B_active.query('rev>0').rev.dropna().mean()"
   ]
  },
  {
   "cell_type": "code",
   "execution_count": 38,
   "metadata": {},
   "outputs": [
    {
     "data": {
      "text/plain": [
       "<matplotlib.axes._subplots.AxesSubplot at 0x7ff02a074860>"
      ]
     },
     "execution_count": 38,
     "metadata": {},
     "output_type": "execute_result"
    },
    {
     "data": {
      "image/png": "[encoded data removed]",
      "text/plain": [
       "<Figure size 432x288 with 1 Axes>"
      ]
     },
     "metadata": {
      "needs_background": "light"
     },
     "output_type": "display_data"
    }
   ],
   "source": [
    "# Посмотрим на распределение покупок в каждой группе\n",
    "df_grp_A_active.query('rev>0').rev.dropna().hist()"
   ]
  },
  {
   "cell_type": "code",
   "execution_count": 39,
   "metadata": {},
   "outputs": [
    {
     "data": {
      "text/plain": [
       "<matplotlib.axes._subplots.AxesSubplot at 0x7ff029f8dac8>"
      ]
     },
     "execution_count": 39,
     "metadata": {},
     "output_type": "execute_result"
    },
    {
     "data": {
      "image/png": "[encoded data removed]",
      "text/plain": [
       "<Figure size 432x288 with 1 Axes>"
      ]
     },
     "metadata": {
      "needs_background": "light"
     },
     "output_type": "display_data"
    }
   ],
   "source": [
    "df_grp_B_active.query('rev>0').rev.dropna().hist()"
   ]
  },
  {
   "cell_type": "code",
   "execution_count": 40,
   "metadata": {},
   "outputs": [
    {
     "data": {
      "image/png": "[encoded data removed]",
      "text/plain": [
       "<Figure size 432x288 with 1 Axes>"
      ]
     },
     "metadata": {
      "needs_background": "light"
     },
     "output_type": "display_data"
    }
   ],
   "source": [
    "sns.boxplot(x=\"rev\", y=\"grp\", data=df_group_merged.query(\n",
    "    'rev>0 & is_active==1'))\n",
    "plt.title('Распределение покупок (rev) по группам')\n",
    "plt.show()"
   ]
  },
  {
   "cell_type": "code",
   "execution_count": 41,
   "metadata": {},
   "outputs": [
    {
     "name": "stdout",
     "output_type": "stream",
     "text": [
      "Количество выбросов\n",
      "Подгруппа А - 9\n",
      "Подгруппа B - 3\n"
     ]
    }
   ],
   "source": [
    "print('Количество выбросов\\nПодгруппа А -', len(df_grp_A_active.query('rev>2500')))\n",
    "print('Подгруппа B -', len(df_grp_B_active.query('rev>3500')))"
   ]
  },
  {
   "cell_type": "markdown",
   "metadata": {},
   "source": [
    "Количество выбросов незначительное,а их размер не является критическим. На основании этого можно утверждать, что выбросы не повлияют на результаты теста.\n",
    "\n",
    "Из графиков видно, что распределения не симметричные и не нормальное, для подтверждения этих утвреждений требуется применить тест Шапиро-Уилка. Если p-уровень значимости больше 0.05, то распределение признака соотвествует нормальному (H0). Альтернативной гипотезой (H1) является то, что распределение не нормальное при p<0.05"
   ]
  },
  {
   "cell_type": "code",
   "execution_count": 42,
   "metadata": {},
   "outputs": [
    {
     "data": {
      "text/plain": [
       "ShapiroResult(statistic=0.7353236079216003, pvalue=1.4986822893803264e-10)"
      ]
     },
     "execution_count": 42,
     "metadata": {},
     "output_type": "execute_result"
    }
   ],
   "source": [
    "shapiro(df_grp_A_active.query('rev>0').rev)"
   ]
  },
  {
   "cell_type": "code",
   "execution_count": 43,
   "metadata": {},
   "outputs": [
    {
     "data": {
      "text/plain": [
       "ShapiroResult(statistic=0.8547235727310181, pvalue=1.5437024585965894e-16)"
      ]
     },
     "execution_count": 43,
     "metadata": {},
     "output_type": "execute_result"
    }
   ],
   "source": [
    "shapiro(df_grp_B_active.query('rev>0').rev)"
   ]
  },
  {
   "cell_type": "markdown",
   "metadata": {},
   "source": [
    "p-value в обоих случаях меньше 0.05, что позволяет отклонить нулевую гипотезу и подтверждает утверждения о не нормальном распределении."
   ]
  },
  {
   "cell_type": "markdown",
   "metadata": {},
   "source": [
    "#### 1.4.4.2 Эксперимент - сравнение средних чеков (Bootstrap)"
   ]
  },
  {
   "cell_type": "markdown",
   "metadata": {},
   "source": [
    "Принимая тот факт, что данные не имеют нормального распределения, используем метод Bootstrap, чтобы определить статистически значимые различия средних чеках в двух группах. Для это сформулируем гипотезы:\n",
    "\n",
    "- H0 - разница средних чеков равна нулю\n",
    "- H1 - разница средних чеков не равна нулю\n"
   ]
  },
  {
   "cell_type": "code",
   "execution_count": 44,
   "metadata": {},
   "outputs": [],
   "source": [
    "def get_bootstrap(\n",
    "    data_column_1,\n",
    "    data_column_2,\n",
    "    boot_it=1000,\n",
    "    statistic=np.mean,\n",
    "    bootstrap_conf_level=0.95\n",
    "):\n",
    "    \"\"\"Функция бутстрапа из ноутбука лекции - lecture_2.2_bootstrap\"\"\" \n",
    "    boot_len = max([len(data_column_1), len(data_column_2)])\n",
    "    boot_data = []\n",
    "    for i in tqdm(range(boot_it)):\n",
    "        samples_1 = data_column_1.sample(\n",
    "            boot_len,\n",
    "            replace=True\n",
    "        ).values\n",
    "\n",
    "        samples_2 = data_column_2.sample(\n",
    "            boot_len,\n",
    "            replace=True\n",
    "        ).values\n",
    "        if statistic == np.mean:\n",
    "            boot_data.append(statistic(samples_1 - samples_2))\n",
    "        else:\n",
    "            boot_data.append(statistic(samples_1) - statistic(samples_2))\n",
    "            \n",
    "    pd_boot_data = pd.DataFrame(boot_data)\n",
    "\n",
    "    left_quant = (1 - bootstrap_conf_level) / 2\n",
    "    right_quant = 1 - (1 - bootstrap_conf_level) / 2\n",
    "    ci = pd_boot_data.quantile([left_quant, right_quant])\n",
    "\n",
    "    p_1 = norm.cdf(\n",
    "        x=0,\n",
    "        loc=np.mean(boot_data),\n",
    "        scale=np.std(boot_data)\n",
    "    )\n",
    "    p_2 = norm.cdf(\n",
    "        x=0,\n",
    "        loc=-np.mean(boot_data),\n",
    "        scale=np.std(boot_data)\n",
    "    )\n",
    "    p_value = min(p_1, p_2) * 2\n",
    "\n",
    "    # Визуализация\n",
    "    plt.hist(pd_boot_data[0], bins=50)\n",
    "\n",
    "    plt.style.use('ggplot')\n",
    "    plt.vlines(ci, ymin=0, ymax=50, linestyle='--')\n",
    "    plt.xlabel('boot_data')\n",
    "    plt.ylabel('frequency')\n",
    "    plt.title(\"Histogram of boot_data\")\n",
    "    plt.show()\n",
    "\n",
    "    return {\"boot_data\": boot_data,\n",
    "            \"ci\": ci,\n",
    "            \"p_value\": p_value}"
   ]
  },
  {
   "cell_type": "code",
   "execution_count": 45,
   "metadata": {},
   "outputs": [
    {
     "name": "stderr",
     "output_type": "stream",
     "text": [
      "100%|██████████| 1000/1000 [00:00<00:00, 3068.94it/s]\n"
     ]
    },
    {
     "data": {
      "image/png": "[encoded data removed]",
      "text/plain": [
       "<Figure size 432x288 with 1 Axes>"
      ]
     },
     "metadata": {
      "needs_background": "light"
     },
     "output_type": "display_data"
    },
    {
     "data": {
      "text/plain": [
       "1.5900368469680545e-06"
      ]
     },
     "execution_count": 45,
     "metadata": {},
     "output_type": "execute_result"
    }
   ],
   "source": [
    "# По умолчанию используем метод bootstrap для средних\n",
    "booted_data = get_bootstrap(df_grp_A_active.query(\n",
    "    'rev>0').rev, df_grp_B_active.query('rev>0').rev)\n",
    "booted_data[\"p_value\"]"
   ]
  },
  {
   "cell_type": "code",
   "execution_count": 46,
   "metadata": {},
   "outputs": [
    {
     "data": {
      "text/html": [
       "<div>\n",
       "<style scoped>\n",
       "    .dataframe tbody tr th:only-of-type {\n",
       "        vertical-align: middle;\n",
       "    }\n",
       "\n",
       "    .dataframe tbody tr th {\n",
       "        vertical-align: top;\n",
       "    }\n",
       "\n",
       "    .dataframe thead th {\n",
       "        text-align: right;\n",
       "    }\n",
       "</style>\n",
       "<table border=\"1\" class=\"dataframe\">\n",
       "  <thead>\n",
       "    <tr style=\"text-align: right;\">\n",
       "      <th></th>\n",
       "      <th>0</th>\n",
       "    </tr>\n",
       "  </thead>\n",
       "  <tbody>\n",
       "    <tr>\n",
       "      <th>0.025</th>\n",
       "      <td>-455.083925</td>\n",
       "    </tr>\n",
       "    <tr>\n",
       "      <th>0.975</th>\n",
       "      <td>-193.855343</td>\n",
       "    </tr>\n",
       "  </tbody>\n",
       "</table>\n",
       "</div>"
      ],
      "text/plain": [
       "                0\n",
       "0.025 -455.083925\n",
       "0.975 -193.855343"
      ]
     },
     "execution_count": 46,
     "metadata": {},
     "output_type": "execute_result"
    }
   ],
   "source": [
    "# Разница значений равная 0 не входит в 95% ДИ\n",
    "booted_data[\"ci\"]"
   ]
  },
  {
   "cell_type": "code",
   "execution_count": 47,
   "metadata": {},
   "outputs": [
    {
     "name": "stderr",
     "output_type": "stream",
     "text": [
      "100%|██████████| 1000/1000 [00:00<00:00, 2145.00it/s]\n"
     ]
    },
    {
     "data": {
      "image/png": "[encoded data removed]",
      "text/plain": [
       "<Figure size 432x288 with 1 Axes>"
      ]
     },
     "metadata": {},
     "output_type": "display_data"
    }
   ],
   "source": [
    "# Также проведем bootstrap для медиан\n",
    "booted_data = get_bootstrap(df_grp_A_active.query(\n",
    "    'rev>0').rev, df_grp_B_active.query('rev>0').rev, statistic=np.median, boot_it=1000)"
   ]
  },
  {
   "cell_type": "markdown",
   "metadata": {},
   "source": [
    "Распределение booted_data для медиан не является нормальным, значит нам не следует рассчитывать доверительный интервал данным экспериментом."
   ]
  },
  {
   "cell_type": "markdown",
   "metadata": {},
   "source": [
    "Вывод:\n",
    "На основании эксперимента Bootstrap для средних, делаем заключение, что 0 не входит в доверительный интвервал и p-value<0.05, что позволяет нам отклонить нулевую гипотезу о том что разницы средних нет. "
   ]
  },
  {
   "cell_type": "markdown",
   "metadata": {},
   "source": [
    "#### 1.4.4.3 Эксперимент - сравнение конверсий (критерий хи-квадрата)\n",
    "Требуется понять  почему конверсия в покупку у активных пользоваталей уменьшилась, для этого воспользуемся критерием Хи-квадрат.\n",
    "Сформулируем гипотезы:\n",
    "H0: Взаимосвязи между группами и совершенными покупками НЕТ\n",
    "H1: Взаимосвязь между группами и совершенными покупками ЕСТЬ"
   ]
  },
  {
   "cell_type": "code",
   "execution_count": 48,
   "metadata": {},
   "outputs": [
    {
     "data": {
      "text/html": [
       "<div>\n",
       "<style scoped>\n",
       "    .dataframe tbody tr th:only-of-type {\n",
       "        vertical-align: middle;\n",
       "    }\n",
       "\n",
       "    .dataframe tbody tr th {\n",
       "        vertical-align: top;\n",
       "    }\n",
       "\n",
       "    .dataframe thead th {\n",
       "        text-align: right;\n",
       "    }\n",
       "</style>\n",
       "<table border=\"1\" class=\"dataframe\">\n",
       "  <thead>\n",
       "    <tr style=\"text-align: right;\">\n",
       "      <th></th>\n",
       "      <th>id</th>\n",
       "      <th>grp</th>\n",
       "      <th>is_active</th>\n",
       "      <th>rev</th>\n",
       "    </tr>\n",
       "  </thead>\n",
       "  <tbody>\n",
       "    <tr>\n",
       "      <th>0</th>\n",
       "      <td>1489</td>\n",
       "      <td>B</td>\n",
       "      <td>0.0</td>\n",
       "      <td>0.0</td>\n",
       "    </tr>\n",
       "    <tr>\n",
       "      <th>1</th>\n",
       "      <td>1627</td>\n",
       "      <td>A</td>\n",
       "      <td>1.0</td>\n",
       "      <td>990.0</td>\n",
       "    </tr>\n",
       "    <tr>\n",
       "      <th>2</th>\n",
       "      <td>1768</td>\n",
       "      <td>B</td>\n",
       "      <td>0.0</td>\n",
       "      <td>0.0</td>\n",
       "    </tr>\n",
       "    <tr>\n",
       "      <th>3</th>\n",
       "      <td>1783</td>\n",
       "      <td>B</td>\n",
       "      <td>0.0</td>\n",
       "      <td>0.0</td>\n",
       "    </tr>\n",
       "    <tr>\n",
       "      <th>4</th>\n",
       "      <td>1794</td>\n",
       "      <td>A</td>\n",
       "      <td>0.0</td>\n",
       "      <td>0.0</td>\n",
       "    </tr>\n",
       "  </tbody>\n",
       "</table>\n",
       "</div>"
      ],
      "text/plain": [
       "     id grp  is_active    rev\n",
       "0  1489   B        0.0    0.0\n",
       "1  1627   A        1.0  990.0\n",
       "2  1768   B        0.0    0.0\n",
       "3  1783   B        0.0    0.0\n",
       "4  1794   A        0.0    0.0"
      ]
     },
     "execution_count": 48,
     "metadata": {},
     "output_type": "execute_result"
    }
   ],
   "source": [
    "df_group_merged.head()"
   ]
  },
  {
   "cell_type": "code",
   "execution_count": 49,
   "metadata": {},
   "outputs": [
    {
     "data": {
      "text/html": [
       "<div>\n",
       "<style scoped>\n",
       "    .dataframe tbody tr th:only-of-type {\n",
       "        vertical-align: middle;\n",
       "    }\n",
       "\n",
       "    .dataframe tbody tr th {\n",
       "        vertical-align: top;\n",
       "    }\n",
       "\n",
       "    .dataframe thead th {\n",
       "        text-align: right;\n",
       "    }\n",
       "</style>\n",
       "<table border=\"1\" class=\"dataframe\">\n",
       "  <thead>\n",
       "    <tr style=\"text-align: right;\">\n",
       "      <th></th>\n",
       "      <th>id</th>\n",
       "      <th>grp</th>\n",
       "      <th>is_active</th>\n",
       "      <th>rev</th>\n",
       "      <th>is_buyer</th>\n",
       "    </tr>\n",
       "  </thead>\n",
       "  <tbody>\n",
       "    <tr>\n",
       "      <th>1</th>\n",
       "      <td>1627</td>\n",
       "      <td>A</td>\n",
       "      <td>1.0</td>\n",
       "      <td>990.0</td>\n",
       "      <td>True</td>\n",
       "    </tr>\n",
       "    <tr>\n",
       "      <th>10</th>\n",
       "      <td>2085</td>\n",
       "      <td>B</td>\n",
       "      <td>1.0</td>\n",
       "      <td>0.0</td>\n",
       "      <td>False</td>\n",
       "    </tr>\n",
       "    <tr>\n",
       "      <th>12</th>\n",
       "      <td>2215</td>\n",
       "      <td>B</td>\n",
       "      <td>1.0</td>\n",
       "      <td>0.0</td>\n",
       "      <td>False</td>\n",
       "    </tr>\n",
       "    <tr>\n",
       "      <th>43</th>\n",
       "      <td>3391</td>\n",
       "      <td>A</td>\n",
       "      <td>1.0</td>\n",
       "      <td>0.0</td>\n",
       "      <td>False</td>\n",
       "    </tr>\n",
       "    <tr>\n",
       "      <th>45</th>\n",
       "      <td>3401</td>\n",
       "      <td>B</td>\n",
       "      <td>1.0</td>\n",
       "      <td>0.0</td>\n",
       "      <td>False</td>\n",
       "    </tr>\n",
       "    <tr>\n",
       "      <th>...</th>\n",
       "      <td>...</td>\n",
       "      <td>...</td>\n",
       "      <td>...</td>\n",
       "      <td>...</td>\n",
       "      <td>...</td>\n",
       "    </tr>\n",
       "    <tr>\n",
       "      <th>74543</th>\n",
       "      <td>5760471</td>\n",
       "      <td>B</td>\n",
       "      <td>1.0</td>\n",
       "      <td>0.0</td>\n",
       "      <td>False</td>\n",
       "    </tr>\n",
       "    <tr>\n",
       "      <th>74545</th>\n",
       "      <td>5777081</td>\n",
       "      <td>B</td>\n",
       "      <td>1.0</td>\n",
       "      <td>0.0</td>\n",
       "      <td>False</td>\n",
       "    </tr>\n",
       "    <tr>\n",
       "      <th>74558</th>\n",
       "      <td>5870856</td>\n",
       "      <td>A</td>\n",
       "      <td>1.0</td>\n",
       "      <td>0.0</td>\n",
       "      <td>False</td>\n",
       "    </tr>\n",
       "    <tr>\n",
       "      <th>74561</th>\n",
       "      <td>5945085</td>\n",
       "      <td>B</td>\n",
       "      <td>1.0</td>\n",
       "      <td>0.0</td>\n",
       "      <td>False</td>\n",
       "    </tr>\n",
       "    <tr>\n",
       "      <th>74562</th>\n",
       "      <td>5951797</td>\n",
       "      <td>B</td>\n",
       "      <td>1.0</td>\n",
       "      <td>0.0</td>\n",
       "      <td>False</td>\n",
       "    </tr>\n",
       "  </tbody>\n",
       "</table>\n",
       "<p>8341 rows × 5 columns</p>\n",
       "</div>"
      ],
      "text/plain": [
       "            id grp  is_active    rev  is_buyer\n",
       "1         1627   A        1.0  990.0      True\n",
       "10        2085   B        1.0    0.0     False\n",
       "12        2215   B        1.0    0.0     False\n",
       "43        3391   A        1.0    0.0     False\n",
       "45        3401   B        1.0    0.0     False\n",
       "...        ...  ..        ...    ...       ...\n",
       "74543  5760471   B        1.0    0.0     False\n",
       "74545  5777081   B        1.0    0.0     False\n",
       "74558  5870856   A        1.0    0.0     False\n",
       "74561  5945085   B        1.0    0.0     False\n",
       "74562  5951797   B        1.0    0.0     False\n",
       "\n",
       "[8341 rows x 5 columns]"
      ]
     },
     "execution_count": 49,
     "metadata": {},
     "output_type": "execute_result"
    }
   ],
   "source": [
    "# Добавим доп столбец 'is_buyer' и оставим только активных пользователей\n",
    "df_group_merged['is_buyer'] = df_group_merged.rev > 0\n",
    "df_group_merged_active = df_group_merged.query('is_active==1')\n",
    "df_group_merged_active"
   ]
  },
  {
   "cell_type": "code",
   "execution_count": 50,
   "metadata": {},
   "outputs": [
    {
     "data": {
      "text/html": [
       "<div>\n",
       "<style scoped>\n",
       "    .dataframe tbody tr th:only-of-type {\n",
       "        vertical-align: middle;\n",
       "    }\n",
       "\n",
       "    .dataframe tbody tr th {\n",
       "        vertical-align: top;\n",
       "    }\n",
       "\n",
       "    .dataframe thead th {\n",
       "        text-align: right;\n",
       "    }\n",
       "</style>\n",
       "<table border=\"1\" class=\"dataframe\">\n",
       "  <thead>\n",
       "    <tr style=\"text-align: right;\">\n",
       "      <th>is_buyer</th>\n",
       "      <th>False</th>\n",
       "      <th>True</th>\n",
       "    </tr>\n",
       "    <tr>\n",
       "      <th>grp</th>\n",
       "      <th></th>\n",
       "      <th></th>\n",
       "    </tr>\n",
       "  </thead>\n",
       "  <tbody>\n",
       "    <tr>\n",
       "      <th>A</th>\n",
       "      <td>1460</td>\n",
       "      <td>78</td>\n",
       "    </tr>\n",
       "    <tr>\n",
       "      <th>B</th>\n",
       "      <td>6489</td>\n",
       "      <td>314</td>\n",
       "    </tr>\n",
       "  </tbody>\n",
       "</table>\n",
       "</div>"
      ],
      "text/plain": [
       "is_buyer  False  True \n",
       "grp                   \n",
       "A          1460     78\n",
       "B          6489    314"
      ]
     },
     "execution_count": 50,
     "metadata": {},
     "output_type": "execute_result"
    }
   ],
   "source": [
    "df_for_chi2 = pd.crosstab(df_group_merged_active.grp, df_group_merged_active.is_buyer)\n",
    "df_for_chi2"
   ]
  },
  {
   "cell_type": "code",
   "execution_count": 51,
   "metadata": {},
   "outputs": [
    {
     "name": "stdout",
     "output_type": "stream",
     "text": [
      "test Statistics: 0.48480826522557896\n",
      "degrees of freedom: 1\n",
      "p-value: 0.48625240457231045\n",
      "\n",
      "[[1465.71897854   72.28102146]\n",
      " [6483.28102146  319.71897854]]\n"
     ]
    }
   ],
   "source": [
    "chi2, prob, df, expected = chi2_contingency(df_for_chi2)\n",
    "\n",
    "output = \"test Statistics: {}\\ndegrees of freedom: {}\\np-value: {}\\n\"\n",
    "\n",
    "print(output.format(chi2, df, prob))\n",
    "\n",
    "print(expected)"
   ]
  },
  {
   "cell_type": "markdown",
   "metadata": {},
   "source": [
    "p_value > 0.05 значит оставляем нулевую гипотезу, что взаимосвязи между тестовыми группами и количеством совершенных покупок нет."
   ]
  },
  {
   "cell_type": "markdown",
   "metadata": {},
   "source": [
    "## Выводы :\n",
    "1. Эксперимент Bootstrap показал, что существуют статистически значимые различия между средними чеками в контрольных группах. Причем эксперимент проводился как на средних, так и на медианах\n",
    "2. Взаимосвязь между тестовыми группами и количеством совершенных покупок отсутствуют, что позволяет нам принебречь тем фактом, что CR активных пользователей в целевой группе уменьшился.\n",
    "3. На основании вышесказанного, можно сделать заключение, что запускать новую механику целесообразно, это позволит увеличит средний чек, а значит и доход, однако количество совершенных покупок вероятно не изменится. \n"
   ]
  },
  {
   "cell_type": "markdown",
   "metadata": {},
   "source": [
    "## Задание 2. SQL"
   ]
  },
  {
   "cell_type": "markdown",
   "metadata": {},
   "source": [
    "### 2.1 Очень усердные ученики"
   ]
  },
  {
   "cell_type": "markdown",
   "metadata": {},
   "source": [
    "#### 2.1.1 Условие\n",
    "\n",
    "Образовательные курсы состоят из различных уроков, каждый из которых состоит из нескольких маленьких заданий. Каждое такое маленькое задание называется \"горошиной\".\n",
    "\n",
    "Назовём очень усердным учеником того пользователя, который хотя бы раз за текущий месяц правильно решил 20 горошин за час."
   ]
  },
  {
   "cell_type": "markdown",
   "metadata": {},
   "source": [
    "#### 2.1.2 Задача\n",
    "\n",
    "Дана таблица peas.Необходимо написать оптимальный запрос, который даст информацию о количестве очень усердных студентов за март 2020 года."
   ]
  },
  {
   "cell_type": "markdown",
   "metadata": {},
   "source": [
    "##### 2.1.3 Решение\n",
    "\n",
    "Запрос для поиска усердных студентов выполнен на основе группировки времени в массив. С помощью оператора groupArray мы собрали все дататаймы по каждому ученику, на основе размера этого массива формируется новый массив с индексами элементов в массиве. И через команду arrayMap ищем разницу во времени для текущего и i-того элемента внутри каждого массива. \n",
    "\n",
    "Потом сравниваем массив разниц и массив с возможными значениями этого временного переода. Например, для месяца это последовательность от 1 до 31, для часа от 1 до 59"
   ]
  },
  {
   "cell_type": "code",
   "execution_count": 52,
   "metadata": {},
   "outputs": [],
   "source": [
    "connection_default = {'host': 'http://clickhouse.beslan.pro:8080',\n",
    "                      'database': 'default',\n",
    "                      'user': 'student',\n",
    "                      'password': 'dpo_python_2020'\n",
    "                      }"
   ]
  },
  {
   "cell_type": "markdown",
   "metadata": {},
   "source": [
    "##### Тестовый запрос для проверки на имеющихся данных. \n",
    "Условие тестового запроса - вывести список студентов за все время, кто выполнил хотябы 3 горошины в месяц"
   ]
  },
  {
   "cell_type": "code",
   "execution_count": 53,
   "metadata": {},
   "outputs": [],
   "source": [
    "query = '''\n",
    "WITH \n",
    "    3 AS tasks_by_period,\n",
    "    'day' AS check_period,\n",
    "    range(0, 31) as check_period_array,    \n",
    "    groupArray(timest) AS timest_array,\n",
    "    arrayEnumerate(timest_array) as indexes,\n",
    "    arrayMap( i -> dateDiff(check_period, timest_array[i], timest_array[i+tasks_by_period-1]), indexes) as running_diffs    \n",
    "    \n",
    "SELECT \n",
    "    COUNT (*) count_good_students\n",
    "FROM\n",
    "(\n",
    "    SELECT \n",
    "        st_id\n",
    "    FROM peas\n",
    "        WHERE correct=1\n",
    "    GROUP BY \n",
    "        st_id\n",
    "    HAVING \n",
    "        hasAny(running_diffs,check_period_array)\n",
    ")\n",
    "'''"
   ]
  },
  {
   "cell_type": "code",
   "execution_count": 54,
   "metadata": {},
   "outputs": [
    {
     "data": {
      "text/html": [
       "<div>\n",
       "<style scoped>\n",
       "    .dataframe tbody tr th:only-of-type {\n",
       "        vertical-align: middle;\n",
       "    }\n",
       "\n",
       "    .dataframe tbody tr th {\n",
       "        vertical-align: top;\n",
       "    }\n",
       "\n",
       "    .dataframe thead th {\n",
       "        text-align: right;\n",
       "    }\n",
       "</style>\n",
       "<table border=\"1\" class=\"dataframe\">\n",
       "  <thead>\n",
       "    <tr style=\"text-align: right;\">\n",
       "      <th></th>\n",
       "      <th>count_good_students</th>\n",
       "    </tr>\n",
       "  </thead>\n",
       "  <tbody>\n",
       "    <tr>\n",
       "      <th>0</th>\n",
       "      <td>1</td>\n",
       "    </tr>\n",
       "  </tbody>\n",
       "</table>\n",
       "</div>"
      ],
      "text/plain": [
       "   count_good_students\n",
       "0                    1"
      ]
     },
     "execution_count": 54,
     "metadata": {},
     "output_type": "execute_result"
    }
   ],
   "source": [
    "q_test = ph.read_clickhouse(query, connection=connection_default)\n",
    "q_test"
   ]
  },
  {
   "cell_type": "markdown",
   "metadata": {},
   "source": [
    "##### Основной запрос согласно условию задачи\n",
    "Условие задачи - вывести список студентов за март 2020 года, кто выполнил хотябы 20 горошин за час.\n",
    "\n",
    "Меняем значения tasks_by_check_period - 20 и check_period - 'minute'. Также меняем массив допустимых значений - check_period_array и ограничение по дате. "
   ]
  },
  {
   "cell_type": "code",
   "execution_count": 55,
   "metadata": {},
   "outputs": [],
   "source": [
    "query = '''\n",
    "WITH \n",
    "    20 AS tasks_by_period,\n",
    "    'minute' AS check_period,\n",
    "    range(0, 60) as check_period_array,\n",
    "    \n",
    "    groupArray(timest) AS timest_array,\n",
    "    arrayEnumerate(timest_array) as indexes,\n",
    "    arrayMap( i -> dateDiff(check_period, timest_array[i], timest_array[i+tasks_by_period-1]), indexes) as running_diffs    \n",
    "\n",
    "SELECT \n",
    "    COUNT (*) count_good_students\n",
    "FROM\n",
    "(\n",
    "    SELECT \n",
    "        st_id\n",
    "        -- timest_array\n",
    "        -- running_diffs\n",
    "\n",
    "    FROM peas\n",
    "        WHERE correct=1 AND month(timest)=3 AND year(timest)=2020\n",
    "    GROUP BY \n",
    "        st_id\n",
    "    HAVING \n",
    "        hasAny(running_diffs,check_period_array)\n",
    ")\n",
    "    '''"
   ]
  },
  {
   "cell_type": "code",
   "execution_count": 56,
   "metadata": {},
   "outputs": [
    {
     "data": {
      "text/html": [
       "<div>\n",
       "<style scoped>\n",
       "    .dataframe tbody tr th:only-of-type {\n",
       "        vertical-align: middle;\n",
       "    }\n",
       "\n",
       "    .dataframe tbody tr th {\n",
       "        vertical-align: top;\n",
       "    }\n",
       "\n",
       "    .dataframe thead th {\n",
       "        text-align: right;\n",
       "    }\n",
       "</style>\n",
       "<table border=\"1\" class=\"dataframe\">\n",
       "  <thead>\n",
       "    <tr style=\"text-align: right;\">\n",
       "      <th></th>\n",
       "      <th>count_good_students</th>\n",
       "    </tr>\n",
       "  </thead>\n",
       "  <tbody>\n",
       "    <tr>\n",
       "      <th>0</th>\n",
       "      <td>0</td>\n",
       "    </tr>\n",
       "  </tbody>\n",
       "</table>\n",
       "</div>"
      ],
      "text/plain": [
       "   count_good_students\n",
       "0                    0"
      ]
     },
     "execution_count": 56,
     "metadata": {},
     "output_type": "execute_result"
    }
   ],
   "source": [
    "q_test = ph.read_clickhouse(query, connection=connection_default)\n",
    "q_test"
   ]
  },
  {
   "cell_type": "markdown",
   "metadata": {},
   "source": [
    "##### Вывод:\n",
    "Предоставленный датасет не позволяет в полной мере оценить правильность работы запроса, поэтому задача была упрощена и промоделирована на тестовом запросе. "
   ]
  },
  {
   "cell_type": "markdown",
   "metadata": {},
   "source": [
    "### 2.2 Оптимизация воронки"
   ]
  },
  {
   "cell_type": "markdown",
   "metadata": {},
   "source": [
    "#### 2.2.1 Условие\n",
    "\n",
    "Образовательная платформа предлагает пройти студентам курсы по модели trial: студент может решить бесплатно лишь 30 горошин в день. Для неограниченного количества заданий в определенной дисциплине студенту необходимо приобрести полный доступ. Команда провела эксперимент, где был протестирован новый экран оплаты."
   ]
  },
  {
   "cell_type": "markdown",
   "metadata": {},
   "source": [
    "#### 2.2.2 Задача\n",
    "Даны таблицы: peas (см. 2.1), studs и final_project_check::\n",
    "Необходимо в одном запросе выгрузить следующую информацию о группах пользователей:\n",
    "\n",
    "ARPU \n",
    "ARPAU \n",
    "CR в покупку \n",
    "СR активного пользователя в покупку \n",
    "CR пользователя из активности по математике (subject = ’math’) в покупку курса по математике.\n",
    "\n",
    "Все данные находятся в табличном виде в Clickhouse"
   ]
  },
  {
   "cell_type": "markdown",
   "metadata": {},
   "source": [
    "#### 2.2.3 Решение\n",
    "Для решения пришлось выполнить несколько объединений таблиц и их группировок. Для удобства будем считать \n",
    "таблицу peas - как активных пользоваталей\n",
    "таблицу final_project_check - как покупателей\n",
    "\n",
    "1. На первом шаге был выполнен FULL JOIN заранее сгруппированных таблиц  покупателей (final_project_check) и активных пользоваталей(peas) по id  и предмету. \n",
    "\n",
    "2. Поскольку требуется вывести всю информацию в одном запросе и мы не можем эффективно использовать WHERE, то нам приходится сохранять отдельно все id (для джойна), id покупателей, id активных пользоваталей, id активных покупателей и т.д. \n",
    "\n",
    "3. Затем эта ОБЪЕДИНЕННАЯ таблица присоединяется LEFT JOIN'ом к заранее сгруппированной таблице с тестовыми группами и выводятся требуемые метрики, согласно формулам:\n",
    "\n",
    "ARPU = Доход / (Кол-во пользователей)\n",
    "\n",
    "ARPAU = Доход / (Кол-во активных пользоваталей)\n",
    "\n",
    "CR = (Кол-во покупателей /Кол-во пользователей)*100% \n",
    "\n",
    "CR_ACTIVE = (Кол-во актив. покупателей /Кол-во актив. пользоваталей)*100%"
   ]
  },
  {
   "cell_type": "code",
   "execution_count": 57,
   "metadata": {},
   "outputs": [],
   "source": [
    "query = '''\n",
    "SELECT \n",
    "       A.test_grp as test_grp,\n",
    "    sum(B.money)/uniqExact(B.st_id) as ARPU,\n",
    "    -- ARPU = Доход / (Кол-во пользователей)\n",
    "    sum(B.money)/uniqExact(B.active_id) as ARPAU,\n",
    "    -- ARPAU = Доход / (Кол-во активных пользоваталей - active_id)\n",
    "    (uniqExact(B.buyer_id)/uniqExact(A.st_id))*100 as CR, \n",
    "    -- CR = (Кол-во покупателей /Кол-во пользователей)*100% \n",
    "    (uniqExact(B.active_buyer_id)/uniqExact(B.active_id))*100 as CR_active,\n",
    "    -- CR_ACTIVE = (Кол-во актив. покупателей /Кол-во актив. пользоваталей)*100%  \n",
    "    (uniqExact(B.active_buyer_math_id)/uniqExact(B.active_math_id))*100 as CR_active_math\n",
    "FROM\n",
    "(\n",
    "    SELECT\n",
    "            st_id,\n",
    "            test_grp\n",
    "    FROM default.studs\n",
    "    GROUP BY\n",
    "        st_id,test_grp --Группируем тестовые группы, чтобы удалить повторы\n",
    ") as A\n",
    "LEFT JOIN -- Новая таблица, на основе ФУЛЛ ДЖОЙНА показывает активность купленных курсов и сумму покупки\n",
    "(\n",
    "    SELECT\n",
    "        CASE\n",
    "            WHEN activity.st_id !='' then activity.st_id  \n",
    "            ELSE purchases.st_id\n",
    "            END as st_id, -- Все id \n",
    "        CASE\n",
    "            WHEN purchases.st_id  !='' then purchases.st_id   \n",
    "            ELSE NULL\n",
    "            END as buyer_id, -- Покупатели\n",
    "        CASE\n",
    "            WHEN activity.st_id  !='' then activity.st_id  \n",
    "            ELSE NULL\n",
    "            END as active_id, -- Активные пользователи \n",
    "        CASE\n",
    "            WHEN activity.st_id  !=''AND purchases.st_id  !='' then activity.st_id  \n",
    "            ELSE NULL\n",
    "            END as  active_buyer_id, -- Активные покупатели\n",
    "        CASE\n",
    "            WHEN activity.st_id  !='' AND activity.subject = 'Math' then activity.st_id  \n",
    "            ELSE NULL\n",
    "            END as  active_math_id, --активные пользователи по математике\n",
    "        CASE\n",
    "            WHEN activity.st_id  !=''AND purchases.st_id  !='' AND activity.subject = 'Math' then activity.st_id  \n",
    "            ELSE NULL\n",
    "            END as  active_buyer_math_id, --активные покупатели по математике\n",
    "        CASE\n",
    "            WHEN activity.subject !='' then activity.subject  \n",
    "            ELSE purchases.subject\n",
    "            END as subject,\n",
    "        purchases.money as money \n",
    "    FROM \n",
    "        (\n",
    "        SELECT -- группируем активныех пользователей по предмету\n",
    "            st_id,\n",
    "            subject\n",
    "        FROM default.peas\n",
    "        GROUP BY\n",
    "            st_id,\n",
    "            subject\n",
    "        )as activity\n",
    "    FULL JOIN\n",
    "        (\n",
    "        SELECT -- группируем покупателей по предмету\n",
    "            st_id,\n",
    "            subject,\n",
    "            sum(money) AS money\n",
    "        FROM default.final_project_check\n",
    "        GROUP BY\n",
    "            st_id,\n",
    "            subject\n",
    "        )\n",
    "        as purchases\n",
    "    ON\n",
    "        activity.st_id = purchases.st_id \n",
    "        AND\n",
    "        activity.subject = purchases.subject \n",
    ") as B\n",
    "ON A.st_id = B.st_id \n",
    "\n",
    "GROUP BY\n",
    "    test_grp\n",
    "\n",
    "    '''"
   ]
  },
  {
   "cell_type": "code",
   "execution_count": 58,
   "metadata": {},
   "outputs": [],
   "source": [
    "q_test = ph.read_clickhouse(query, connection=connection_default)"
   ]
  },
  {
   "cell_type": "code",
   "execution_count": 59,
   "metadata": {},
   "outputs": [
    {
     "data": {
      "text/html": [
       "<div>\n",
       "<style scoped>\n",
       "    .dataframe tbody tr th:only-of-type {\n",
       "        vertical-align: middle;\n",
       "    }\n",
       "\n",
       "    .dataframe tbody tr th {\n",
       "        vertical-align: top;\n",
       "    }\n",
       "\n",
       "    .dataframe thead th {\n",
       "        text-align: right;\n",
       "    }\n",
       "</style>\n",
       "<table border=\"1\" class=\"dataframe\">\n",
       "  <thead>\n",
       "    <tr style=\"text-align: right;\">\n",
       "      <th></th>\n",
       "      <th>test_grp</th>\n",
       "      <th>ARPU</th>\n",
       "      <th>ARPAU</th>\n",
       "      <th>CR</th>\n",
       "      <th>CR_active</th>\n",
       "      <th>CR_active_math</th>\n",
       "    </tr>\n",
       "  </thead>\n",
       "  <tbody>\n",
       "    <tr>\n",
       "      <th>0</th>\n",
       "      <td>new</td>\n",
       "      <td>117586.206897</td>\n",
       "      <td>117586.206897</td>\n",
       "      <td>100.0</td>\n",
       "      <td>96.551724</td>\n",
       "      <td>75.0</td>\n",
       "    </tr>\n",
       "    <tr>\n",
       "      <th>1</th>\n",
       "      <td>old</td>\n",
       "      <td>116724.137931</td>\n",
       "      <td>116724.137931</td>\n",
       "      <td>100.0</td>\n",
       "      <td>96.551724</td>\n",
       "      <td>75.0</td>\n",
       "    </tr>\n",
       "  </tbody>\n",
       "</table>\n",
       "</div>"
      ],
      "text/plain": [
       "  test_grp           ARPU          ARPAU     CR  CR_active  CR_active_math\n",
       "0      new  117586.206897  117586.206897  100.0  96.551724            75.0\n",
       "1      old  116724.137931  116724.137931  100.0  96.551724            75.0"
      ]
     },
     "execution_count": 59,
     "metadata": {},
     "output_type": "execute_result"
    }
   ],
   "source": [
    "q_test"
   ]
  },
  {
   "cell_type": "markdown",
   "metadata": {},
   "source": [
    "##### Вывод \n",
    "Основные метрики согласно заданию были получены с помощью SQL-запроса. Высокий CR обусловлен данными, все студенты купили хотябы один из курсов, хотябы по одному предмету. CR активного пользователя отличается, поскольку в каждой из групп нашлось по 1 активному студенту, который не купил хотя бы 1 из курсов, который он выполнял, хотя покупал курсы, которые не проходил, поэтому CR'ы отличаются. "
   ]
  },
  {
   "cell_type": "markdown",
   "metadata": {},
   "source": [
    "## Задание 3. Python"
   ]
  },
  {
   "cell_type": "markdown",
   "metadata": {},
   "source": [
    "### 3.1 Задача\n",
    "\n",
    "1. Реализуйте функцию, которая будет автоматически подгружать информацию из дополнительного файла groups_add.csv (заголовки могут отличаться) и на основании дополнительных параметров пересчитывать метрики.\n",
    "2. Реализуйте функцию, которая будет строить графики по получаемым метрикам."
   ]
  },
  {
   "cell_type": "markdown",
   "metadata": {},
   "source": [
    "### 3.2 Решение"
   ]
  },
  {
   "cell_type": "code",
   "execution_count": 60,
   "metadata": {},
   "outputs": [],
   "source": [
    "df_python_task = df_group_merged"
   ]
  },
  {
   "cell_type": "code",
   "execution_count": 61,
   "metadata": {},
   "outputs": [
    {
     "data": {
      "text/html": [
       "<div>\n",
       "<style scoped>\n",
       "    .dataframe tbody tr th:only-of-type {\n",
       "        vertical-align: middle;\n",
       "    }\n",
       "\n",
       "    .dataframe tbody tr th {\n",
       "        vertical-align: top;\n",
       "    }\n",
       "\n",
       "    .dataframe thead th {\n",
       "        text-align: right;\n",
       "    }\n",
       "</style>\n",
       "<table border=\"1\" class=\"dataframe\">\n",
       "  <thead>\n",
       "    <tr style=\"text-align: right;\">\n",
       "      <th></th>\n",
       "      <th>id</th>\n",
       "      <th>grp</th>\n",
       "    </tr>\n",
       "  </thead>\n",
       "  <tbody>\n",
       "    <tr>\n",
       "      <th>0</th>\n",
       "      <td>1489</td>\n",
       "      <td>B</td>\n",
       "    </tr>\n",
       "    <tr>\n",
       "      <th>1</th>\n",
       "      <td>1627</td>\n",
       "      <td>A</td>\n",
       "    </tr>\n",
       "    <tr>\n",
       "      <th>2</th>\n",
       "      <td>1768</td>\n",
       "      <td>B</td>\n",
       "    </tr>\n",
       "    <tr>\n",
       "      <th>3</th>\n",
       "      <td>1783</td>\n",
       "      <td>B</td>\n",
       "    </tr>\n",
       "    <tr>\n",
       "      <th>4</th>\n",
       "      <td>1794</td>\n",
       "      <td>A</td>\n",
       "    </tr>\n",
       "    <tr>\n",
       "      <th>...</th>\n",
       "      <td>...</td>\n",
       "      <td>...</td>\n",
       "    </tr>\n",
       "    <tr>\n",
       "      <th>74571</th>\n",
       "      <td>200247820</td>\n",
       "      <td>B</td>\n",
       "    </tr>\n",
       "    <tr>\n",
       "      <th>74572</th>\n",
       "      <td>201032527</td>\n",
       "      <td>B</td>\n",
       "    </tr>\n",
       "    <tr>\n",
       "      <th>74573</th>\n",
       "      <td>201067612</td>\n",
       "      <td>B</td>\n",
       "    </tr>\n",
       "    <tr>\n",
       "      <th>74574</th>\n",
       "      <td>201067653</td>\n",
       "      <td>B</td>\n",
       "    </tr>\n",
       "    <tr>\n",
       "      <th>74575</th>\n",
       "      <td>201067659</td>\n",
       "      <td>B</td>\n",
       "    </tr>\n",
       "  </tbody>\n",
       "</table>\n",
       "<p>74576 rows × 2 columns</p>\n",
       "</div>"
      ],
      "text/plain": [
       "              id grp\n",
       "0           1489   B\n",
       "1           1627   A\n",
       "2           1768   B\n",
       "3           1783   B\n",
       "4           1794   A\n",
       "...          ...  ..\n",
       "74571  200247820   B\n",
       "74572  201032527   B\n",
       "74573  201067612   B\n",
       "74574  201067653   B\n",
       "74575  201067659   B\n",
       "\n",
       "[74576 rows x 2 columns]"
      ]
     },
     "execution_count": 61,
     "metadata": {},
     "output_type": "execute_result"
    }
   ],
   "source": [
    "df_group_all"
   ]
  },
  {
   "cell_type": "code",
   "execution_count": 62,
   "metadata": {},
   "outputs": [],
   "source": [
    "def read_df_groups_add(public_key, sep=';'):\n",
    "    \"\"\"Функция для получения загрузочной ссылки\"\"\" \n",
    "    base_url = 'https://cloud-api.yandex.net/v1/disk/public/resources/download?'\n",
    "    final_url = base_url + urlencode(dict(public_key=public_key))\n",
    "    response = requests.get(final_url)\n",
    "    download_url = response.json()['href']\n",
    "\n",
    "    return pd.read_csv(download_url, sep=sep)\n",
    "\n",
    "\n",
    "# Считываем все данные\n",
    "df_groups = read_df_from_link('https://disk.yandex.ru/d/58Us0DWOzuWAjg')\n",
    "df_groups_add = read_df_from_link(\n",
    "    'https://disk.yandex.ru/d/3aARY-P9pfaksg', sep=',')\n",
    "df_active_studs = read_df_from_link('https://disk.yandex.ru/d/prbgU-rZpiXVYg')\n",
    "df_check = read_df_from_link('https://disk.yandex.ru/d/84hTmELphW2sqQ')"
   ]
  },
  {
   "cell_type": "code",
   "execution_count": 63,
   "metadata": {},
   "outputs": [],
   "source": [
    "def merge_groups_add(groups_add, df_groups=df_groups, df_active_studs=df_active_studs, df_check=df_check):\n",
    "    \"\"\"Функция объединения таблиц\"\"\"\n",
    "    df_active_studs.rename(columns={'student_id': 'id'}, inplace=True)\n",
    "    df_check.rename(columns={'student_id': 'id'}, inplace=True)\n",
    "    \n",
    "    groups_add.rename(columns={groups_add.columns[0]: \"id\", groups_add.columns[1]: \"grp\"})\n",
    "    \n",
    "    df_group_all = pd.concat([df_groups, groups_add],\n",
    "                             ignore_index=True, axis=0)\n",
    "    df_group_all.drop_duplicates(subset='id', inplace=True)\n",
    "    df_active_studs['is_active'] = 1\n",
    "    df_group_merged = pd.merge(\n",
    "        df_group_all, df_active_studs, how='left', on='id')\n",
    "    df_group_merged = pd.merge(df_group_merged, df_check, how='left', on='id')\n",
    "    return df_group_merged.fillna(0)"
   ]
  },
  {
   "cell_type": "code",
   "execution_count": 64,
   "metadata": {},
   "outputs": [],
   "source": [
    "def get_metrics_and_vizualisation(df_group_merged):\n",
    "    \"\"\"Функция расчета метрик и их визуализация\"\"\"\n",
    "    df_grp_A = df_group_merged[df_group_merged.grp == 'A']\n",
    "    df_grp_B = df_group_merged[df_group_merged.grp == 'B']\n",
    "    avg_check_A = df_grp_A.query('rev>0').rev.dropna().mean()\n",
    "    avg_check_B = df_grp_B.query('rev>0').rev.dropna().mean()\n",
    "    ARPU_A = df_grp_A.rev.sum() / df_grp_A.id.count()\n",
    "    ARPU_B = df_grp_B.rev.sum() / df_grp_B.id.count()\n",
    "    CR_A = df_grp_A.query('rev>0').id.count() / df_grp_A.id.count() * 100\n",
    "    CR_B = df_grp_B.query('rev>0').id.count() / df_grp_B.id.count() * 100\n",
    "    print('Основные метрики:\\n\\nСредний чек.: ')\n",
    "    print(\n",
    "        f'Группа А: {round(avg_check_A,2)}\\nГруппа Б: {round(avg_check_B,2)}')\n",
    "    print('Cредняя выручка на одного пользователя (ARPU): ')\n",
    "    print(f'Группа А: {round(ARPU_A,2)}\\nГруппа Б: {round(ARPU_B,2)}')\n",
    "    print('Конверсия в покупку (CR): ')\n",
    "    print(f'Группа А: {round(CR_A,2)}\\nГруппа Б: {round(CR_B,2)}')\n",
    "    data_for_viz = pd.DataFrame(\n",
    "        [['A', avg_check_A, ARPU_A, CR_A],\n",
    "         ['B', avg_check_B, ARPU_B, CR_B]],\n",
    "        columns=['grp', 'avg_check', 'ARPU', 'CR'])\n",
    "\n",
    "    fig, axes = plt.subplots(nrows=1, ncols=3, figsize=(12, 4))\n",
    "    sns.barplot(x='grp', y='avg_check', data=data_for_viz, ax=axes[0])\n",
    "    axes[0].set(title='Средний чек')\n",
    "    sns.barplot(x='grp', y='ARPU', data=data_for_viz, ax=axes[1])\n",
    "    axes[1].set(title='ARPU')\n",
    "    sns.barplot(x='grp', y='CR', data=data_for_viz, ax=axes[2])\n",
    "    axes[2].set(title='Конверсия в покупку')\n",
    "    plt.show()"
   ]
  },
  {
   "cell_type": "code",
   "execution_count": 65,
   "metadata": {},
   "outputs": [
    {
     "name": "stdout",
     "output_type": "stream",
     "text": [
      "Основные метрики:\n",
      "\n",
      "Средний чек.: \n",
      "Группа А: 860.71\n",
      "Группа Б: 1108.82\n",
      "Cредняя выручка на одного пользователя (ARPU): \n",
      "Группа А: 6.27\n",
      "Группа Б: 8.04\n",
      "Конверсия в покупку (CR): \n",
      "Группа А: 0.73\n",
      "Группа Б: 0.72\n"
     ]
    },
    {
     "data": {
      "image/png": "[encoded data removed]",
      "text/plain": [
       "<Figure size 864x288 with 3 Axes>"
      ]
     },
     "metadata": {},
     "output_type": "display_data"
    }
   ],
   "source": [
    "url = 'https://disk.yandex.ru/d/3aARY-P9pfaksg'\n",
    "df_groups_add_3 = read_df_groups_add(url, sep=',')\n",
    "df_group_merged_3 = merge_groups_add(df_groups_add_3)\n",
    "get_metrics_and_vizualisation(df_group_merged_3)"
   ]
  }
 ],
 "metadata": {
  "kernelspec": {
   "display_name": "Python 3",
   "language": "python",
   "name": "python3"
  },
  "language_info": {
   "codemirror_mode": {
    "name": "ipython",
    "version": 3
   },
   "file_extension": ".py",
   "mimetype": "text/x-python",
   "name": "python",
   "nbconvert_exporter": "python",
   "pygments_lexer": "ipython3",
   "version": "3.7.3"
  },
  "widgets": {
   "application/vnd.jupyter.widget-state+json": {
    "state": {},
    "version_major": 2,
    "version_minor": 0
   }
  }
 },
 "nbformat": 4,
 "nbformat_minor": 4
}
